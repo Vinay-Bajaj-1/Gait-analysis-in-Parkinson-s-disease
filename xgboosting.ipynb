{
 "cells": [
  {
   "cell_type": "code",
   "execution_count": 1,
   "metadata": {
    "id": "qgFbGhigGGiv"
   },
   "outputs": [],
   "source": [
    "import pandas as pd\n",
    "import numpy as np\n",
    "from sklearn.metrics import accuracy_score"
   ]
  },
  {
   "cell_type": "code",
   "execution_count": 2,
   "metadata": {
    "colab": {
     "base_uri": "https://localhost:8080/"
    },
    "id": "mOjSWv_cIWcp",
    "outputId": "f1e93163-f849-4a8b-da69-066ee201915d"
   },
   "outputs": [
    {
     "name": "stdout",
     "output_type": "stream",
     "text": [
      "(376504, 59) (376504, 59)\n",
      "(1034504, 59) (1411008, 59)\n",
      "(322005, 59) (1733013, 59)\n",
      "(530504, 59) (2263517, 59)\n",
      "(343004, 59) (2606521, 59)\n",
      "(884009, 59) (3490530, 59)\n",
      "(803504, 59) (4294034, 59)\n",
      "(4294034, 59)\n"
     ]
    }
   ],
   "source": [
    "num_rows = 0\n",
    "\n",
    "train_df = np.empty((0,59), dtype=np.float64)\n",
    "\n",
    "for i in range(1, 11):\n",
    "  l = [2,5,9]\n",
    "  if i not in l:\n",
    "    directory = 'merged files/' + str(\"{:03d}\".format(i) + '.csv')\n",
    "    df_chunk = pd.read_csv(directory).iloc[:, 1:]\n",
    "    train_df = np.vstack((train_df, df_chunk.to_numpy(dtype=np.float64)))\n",
    "    num_rows += len(df_chunk)\n",
    "    print(df_chunk.shape, train_df.shape)\n",
    "print(train_df.shape)"
   ]
  },
  {
   "cell_type": "code",
   "execution_count": 3,
   "metadata": {
    "colab": {
     "base_uri": "https://localhost:8080/"
    },
    "id": "wYzSuRy_GV4v",
    "outputId": "e2420971-bf3c-4933-f551-987830e8d9e8"
   },
   "outputs": [
    {
     "data": {
      "text/plain": [
       "((4294034, 58), (4294034,))"
      ]
     },
     "execution_count": 3,
     "metadata": {},
     "output_type": "execute_result"
    }
   ],
   "source": [
    "X = train_df[:, :-1]\n",
    "Y = train_df[:, -1]\n",
    "X.shape, Y.shape"
   ]
  },
  {
   "cell_type": "code",
   "execution_count": 4,
   "metadata": {
    "colab": {
     "base_uri": "https://localhost:8080/"
    },
    "id": "FwUJjipyHfni",
    "outputId": "59ca7fdf-1e7d-48b4-f95a-b54adb37f393"
   },
   "outputs": [
    {
     "name": "stdout",
     "output_type": "stream",
     "text": [
      "(1099508, 59)\n"
     ]
    }
   ],
   "source": [
    "num_columns = 59\n",
    "\n",
    "\n",
    "test_result_array = np.empty((0, num_columns), dtype=np.float64)\n",
    "\n",
    "for i in range(11, 13):\n",
    "    directory = 'merged files/' + str(\"{:03d}\".format(i)) + '.csv'\n",
    "    df_chunk = pd.read_csv(directory).iloc[:, 1:]\n",
    "    test_result_array = np.vstack((test_result_array, df_chunk.to_numpy(dtype=np.float64)))\n",
    "\n",
    "\n",
    "print(test_result_array.shape)"
   ]
  },
  {
   "cell_type": "code",
   "execution_count": 5,
   "metadata": {
    "colab": {
     "base_uri": "https://localhost:8080/"
    },
    "id": "3Zomo3HnIYwx",
    "outputId": "5efe5660-c5cf-43a7-c4db-aedf007dd82e"
   },
   "outputs": [
    {
     "data": {
      "text/plain": [
       "((1099508, 58), (1099508,))"
      ]
     },
     "execution_count": 5,
     "metadata": {},
     "output_type": "execute_result"
    }
   ],
   "source": [
    "X_ = test_result_array[:, :-1]\n",
    "Y_ = test_result_array[:, -1]\n",
    "X_.shape, Y_.shape"
   ]
  },
  {
   "cell_type": "code",
   "execution_count": 6,
   "metadata": {},
   "outputs": [],
   "source": [
    "#"
   ]
  },
  {
   "cell_type": "code",
   "execution_count": 7,
   "metadata": {
    "id": "lvE1eSz_GlhF"
   },
   "outputs": [],
   "source": [
    "import xgboost as xgb\n",
    "\n",
    "dtrain_reg = xgb.DMatrix(X, Y)\n",
    "dtest_reg = xgb.DMatrix(X_, Y_)"
   ]
  },
  {
   "cell_type": "code",
   "execution_count": 8,
   "metadata": {
    "id": "Nh_uBpTOHKnd"
   },
   "outputs": [],
   "source": [
    "params = {\n",
    "    'objective': 'binary:logistic',  # Binary classification\n",
    "    'eval_metric': 'logloss',        # Evaluation metric\n",
    "    'max_depth': 25,                # Maximum depth of a tree\n",
    "    'eta': 0.15,                      # Learning rate\n",
    "    'subsample': 0.8,                # Subsample ratio of the training instances\n",
    "    'colsample_bytree': 0.8,         # Subsample ratio of columns when constructing each tree\n",
    "    'seed': 42,                      # Random seed\n",
    "\n",
    "}"
   ]
  },
  {
   "cell_type": "code",
   "execution_count": 9,
   "metadata": {
    "id": "xGth-zOWKDkE"
   },
   "outputs": [],
   "source": [
    "xgb_classifier = xgb.train(params, dtrain_reg)"
   ]
  },
  {
   "cell_type": "code",
   "execution_count": 10,
   "metadata": {
    "colab": {
     "base_uri": "https://localhost:8080/",
     "height": 462
    },
    "id": "MCQovAxeJw31",
    "outputId": "052f680e-f472-45ca-9a71-df28a8f1b897"
   },
   "outputs": [],
   "source": [
    "# Make predictions on the test set\n",
    "y_pred = xgb_classifier.predict(dtest_reg)"
   ]
  },
  {
   "cell_type": "code",
   "execution_count": 11,
   "metadata": {},
   "outputs": [],
   "source": [
    "y_pred_bool = [0 if x < 0.78 else 1 for x in y_pred]"
   ]
  },
  {
   "cell_type": "code",
   "execution_count": 12,
   "metadata": {
    "id": "bE_PZHHkJ1tz"
   },
   "outputs": [
    {
     "name": "stdout",
     "output_type": "stream",
     "text": [
      "Accuracy: 0.6606\n"
     ]
    }
   ],
   "source": [
    "# Evaluate the model's performance\n",
    "accuracy = accuracy_score(Y_, y_pred_bool)\n",
    "print(f\"Accuracy: {accuracy:.4f}\")"
   ]
  },
  {
   "cell_type": "code",
   "execution_count": 13,
   "metadata": {
    "id": "0F-1Gs3ZK0Ue"
   },
   "outputs": [
    {
     "data": {
      "text/plain": [
       "array([[709754,  30254],\n",
       "       [342943,  16557]], dtype=int64)"
      ]
     },
     "execution_count": 13,
     "metadata": {},
     "output_type": "execute_result"
    }
   ],
   "source": [
    "from sklearn.metrics import confusion_matrix\n",
    "cm = confusion_matrix(Y_, y_pred_bool)\n",
    "cm"
   ]
  },
  {
   "cell_type": "code",
   "execution_count": null,
   "metadata": {},
   "outputs": [],
   "source": []
  }
 ],
 "metadata": {
  "colab": {
   "provenance": []
  },
  "kernelspec": {
   "display_name": "Python 3 (ipykernel)",
   "language": "python",
   "name": "python3"
  },
  "language_info": {
   "codemirror_mode": {
    "name": "ipython",
    "version": 3
   },
   "file_extension": ".py",
   "mimetype": "text/x-python",
   "name": "python",
   "nbconvert_exporter": "python",
   "pygments_lexer": "ipython3",
   "version": "3.11.4"
  }
 },
 "nbformat": 4,
 "nbformat_minor": 4
}
