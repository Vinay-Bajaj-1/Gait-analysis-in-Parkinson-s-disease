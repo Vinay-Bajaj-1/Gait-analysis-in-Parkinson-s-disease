{
 "cells": [
  {
   "cell_type": "code",
   "execution_count": 1,
   "metadata": {
    "_cell_guid": "b1076dfc-b9ad-4769-8c92-a6c4dae69d19",
    "_uuid": "8f2839f25d086af736a60e9eeb907d3b93b6e0e5",
    "execution": {
     "iopub.execute_input": "2023-09-20T08:35:18.553916Z",
     "iopub.status.busy": "2023-09-20T08:35:18.553269Z",
     "iopub.status.idle": "2023-09-20T08:35:27.819581Z",
     "shell.execute_reply": "2023-09-20T08:35:27.818390Z",
     "shell.execute_reply.started": "2023-09-20T08:35:18.553883Z"
    }
   },
   "outputs": [
    {
     "name": "stderr",
     "output_type": "stream",
     "text": [
      "/opt/conda/lib/python3.10/site-packages/scipy/__init__.py:146: UserWarning: A NumPy version >=1.16.5 and <1.23.0 is required for this version of SciPy (detected version 1.23.5\n",
      "  warnings.warn(f\"A NumPy version >={np_minversion} and <{np_maxversion}\"\n"
     ]
    }
   ],
   "source": [
    "import pandas as pd\n",
    "import numpy as np\n",
    "import matplotlib.pyplot as plt\n",
    "from tensorflow.keras.models import Model\n",
    "import matplotlib.pyplot as plt\n",
    "from tensorflow.keras.layers import Input, LSTM, Dense, Dropout,BatchNormalization"
   ]
  },
  {
   "cell_type": "code",
   "execution_count": 2,
   "metadata": {
    "execution": {
     "iopub.execute_input": "2023-09-20T08:35:27.823165Z",
     "iopub.status.busy": "2023-09-20T08:35:27.822118Z",
     "iopub.status.idle": "2023-09-20T08:35:27.830394Z",
     "shell.execute_reply": "2023-09-20T08:35:27.829230Z",
     "shell.execute_reply.started": "2023-09-20T08:35:27.823128Z"
    }
   },
   "outputs": [],
   "source": [
    "columns = ['person', 'c1', 'c2', 'c3', 'c4', 'c5', 'c6', 'c7', 'c8', 'c9', 'c10', 'c11',\\\n",
    "       'c12', 'c13', 'c14', 'c15', 'c16', 'c17', 'c18', 'c19', 'c20', 'c21',\\\n",
    "       'c22', 'c23', 'c24', 'c25', 'c26', 'c27', 'c28', 'c29', 'c30', 'c31',\\\n",
    "       'c32', 'c33', 'c34', 'c35', 'c36', 'c37', 'c38', 'c39', 'c40', 'c41',\\\n",
    "       'c42', 'c43', 'c44', 'c45', 'c46', 'c47', 'c48', 'c49', 'c50', 'c51',\\\n",
    "       'c52', 'c53', 'c54', 'c55', 'c56', 'c57', 'c58', 'O']"
   ]
  },
  {
   "cell_type": "code",
   "execution_count": 3,
   "metadata": {
    "execution": {
     "iopub.execute_input": "2023-09-20T08:35:27.832372Z",
     "iopub.status.busy": "2023-09-20T08:35:27.831963Z",
     "iopub.status.idle": "2023-09-20T08:35:27.843894Z",
     "shell.execute_reply": "2023-09-20T08:35:27.842817Z",
     "shell.execute_reply.started": "2023-09-20T08:35:27.832325Z"
    }
   },
   "outputs": [],
   "source": [
    "max_rows, max_cols = 1034504, 59\n",
    "#max_rows, max_cols = 884009, 59"
   ]
  },
  {
   "cell_type": "code",
   "execution_count": 4,
   "metadata": {
    "execution": {
     "iopub.execute_input": "2023-09-20T08:35:27.847299Z",
     "iopub.status.busy": "2023-09-20T08:35:27.846889Z",
     "iopub.status.idle": "2023-09-20T08:37:05.720170Z",
     "shell.execute_reply": "2023-09-20T08:37:05.718710Z",
     "shell.execute_reply.started": "2023-09-20T08:35:27.847257Z"
    }
   },
   "outputs": [
    {
     "name": "stdout",
     "output_type": "stream",
     "text": [
      "(376504, 60) (1034504, 59) (1034504,)\n",
      "(268504, 60) (1034504, 59) (1034504,)\n",
      "(1034504, 60) (1034504, 59) (1034504,)\n",
      "(322005, 60) (1034504, 59) (1034504,)\n",
      "(153004, 60) (1034504, 59) (1034504,)\n",
      "(530504, 60) (1034504, 59) (1034504,)\n",
      "(343004, 60) (1034504, 59) (1034504,)\n",
      "(884009, 60) (1034504, 59) (1034504,)\n",
      "(396006, 60) (1034504, 59) (1034504,)\n",
      "(803504, 60) (1034504, 59) (1034504,)\n",
      "(580504, 60) (1034504, 59) (1034504,)\n"
     ]
    }
   ],
   "source": [
    "# Pad the time series to the same length\n",
    "x_padded = []\n",
    "y_padded = []\n",
    "for i in range(1,12):\n",
    "    directory = '/kaggle/input/merged-data/' + str(\"{:03d}\".format(i) + '.csv')\n",
    "    df_chunk = pd.read_csv(directory).values\n",
    "    \n",
    "    x_padding = np.pad(df_chunk[:, :-1], ((0, max_rows - df_chunk.shape[0]), (0, 0)), 'constant')\n",
    "    y_padding = np.pad(df_chunk[:, -1], ((0, max_rows - df_chunk.shape[0])), 'constant')\n",
    "\n",
    "    \n",
    "    print(df_chunk.shape, x_padding.shape, y_padding.shape)\n",
    "    x_padded.append(x_padding)\n",
    "    y_padded.append(y_padding)\n",
    "\n",
    "x_padded = np.array(x_padded)\n",
    "y_padded = np.array(y_padded)"
   ]
  },
  {
   "cell_type": "code",
   "execution_count": 5,
   "metadata": {
    "execution": {
     "iopub.execute_input": "2023-09-20T08:37:05.721930Z",
     "iopub.status.busy": "2023-09-20T08:37:05.721552Z",
     "iopub.status.idle": "2023-09-20T08:37:05.731440Z",
     "shell.execute_reply": "2023-09-20T08:37:05.730406Z",
     "shell.execute_reply.started": "2023-09-20T08:37:05.721893Z"
    }
   },
   "outputs": [
    {
     "data": {
      "text/plain": [
       "((1034504, 10, 59), (1034504, 10))"
      ]
     },
     "execution_count": 5,
     "metadata": {},
     "output_type": "execute_result"
    }
   ],
   "source": [
    "sequence_length = 10 \n",
    "num_features = 59\n",
    "\n",
    "num_sequences = len(x_padded) // sequence_length\n",
    "total_samples = num_sequences * sequence_length\n",
    "\n",
    "xpadded = x_padded[:total_samples]\n",
    "ypadded = y_padded[:total_samples]\n",
    "\n",
    "X = xpadded.reshape(-1, sequence_length, num_features)\n",
    "y = ypadded.reshape(-1, sequence_length)\n",
    "X.shape, y.shape"
   ]
  },
  {
   "cell_type": "code",
   "execution_count": 6,
   "metadata": {
    "execution": {
     "iopub.execute_input": "2023-09-20T08:37:05.733786Z",
     "iopub.status.busy": "2023-09-20T08:37:05.732717Z",
     "iopub.status.idle": "2023-09-20T08:37:09.467385Z",
     "shell.execute_reply": "2023-09-20T08:37:09.466396Z",
     "shell.execute_reply.started": "2023-09-20T08:37:05.733700Z"
    }
   },
   "outputs": [],
   "source": [
    "#model\n",
    "i = Input(shape=(10, 59))\n",
    "x = LSTM(128, return_sequences = True)(i)\n",
    "x = BatchNormalization()(x)\n",
    "x = Dropout(0.4)(x)\n",
    "\n",
    "x = LSTM(64, return_sequences = True)(x)\n",
    "x = BatchNormalization()(x)\n",
    "x = Dropout(0.2)(x)\n",
    "\n",
    "\n",
    "'''x = LSTM(128, return_sequences = True)(x)\n",
    "x = BatchNormalization()(x)\n",
    "x = Dropout(0.2)(x)'''\n",
    "\n",
    "x = Dense(1, activation = 'sigmoid')(x)\n",
    "\n",
    "model = Model(i, x)"
   ]
  },
  {
   "cell_type": "code",
   "execution_count": 7,
   "metadata": {
    "execution": {
     "iopub.execute_input": "2023-09-20T08:37:09.471331Z",
     "iopub.status.busy": "2023-09-20T08:37:09.468684Z",
     "iopub.status.idle": "2023-09-20T08:37:09.495788Z",
     "shell.execute_reply": "2023-09-20T08:37:09.494881Z",
     "shell.execute_reply.started": "2023-09-20T08:37:09.471294Z"
    }
   },
   "outputs": [],
   "source": [
    "model.compile(optimizer='adam', loss='binary_crossentropy', metrics=['accuracy'])"
   ]
  },
  {
   "cell_type": "code",
   "execution_count": 8,
   "metadata": {
    "execution": {
     "iopub.execute_input": "2023-09-20T08:37:09.498060Z",
     "iopub.status.busy": "2023-09-20T08:37:09.497260Z",
     "iopub.status.idle": "2023-09-20T08:37:09.530842Z",
     "shell.execute_reply": "2023-09-20T08:37:09.530107Z",
     "shell.execute_reply.started": "2023-09-20T08:37:09.498025Z"
    }
   },
   "outputs": [
    {
     "name": "stdout",
     "output_type": "stream",
     "text": [
      "Model: \"model\"\n",
      "_________________________________________________________________\n",
      " Layer (type)                Output Shape              Param #   \n",
      "=================================================================\n",
      " input_1 (InputLayer)        [(None, 10, 59)]          0         \n",
      "                                                                 \n",
      " lstm (LSTM)                 (None, 10, 128)           96256     \n",
      "                                                                 \n",
      " batch_normalization (BatchN  (None, 10, 128)          512       \n",
      " ormalization)                                                   \n",
      "                                                                 \n",
      " dropout (Dropout)           (None, 10, 128)           0         \n",
      "                                                                 \n",
      " lstm_1 (LSTM)               (None, 10, 64)            49408     \n",
      "                                                                 \n",
      " batch_normalization_1 (Batc  (None, 10, 64)           256       \n",
      " hNormalization)                                                 \n",
      "                                                                 \n",
      " dropout_1 (Dropout)         (None, 10, 64)            0         \n",
      "                                                                 \n",
      " dense (Dense)               (None, 10, 1)             65        \n",
      "                                                                 \n",
      "=================================================================\n",
      "Total params: 146,497\n",
      "Trainable params: 146,113\n",
      "Non-trainable params: 384\n",
      "_________________________________________________________________\n"
     ]
    }
   ],
   "source": [
    "model.summary()"
   ]
  },
  {
   "cell_type": "code",
   "execution_count": 9,
   "metadata": {
    "execution": {
     "iopub.execute_input": "2023-09-20T08:37:09.532105Z",
     "iopub.status.busy": "2023-09-20T08:37:09.531783Z",
     "iopub.status.idle": "2023-09-20T08:40:50.598568Z",
     "shell.execute_reply": "2023-09-20T08:40:50.597601Z",
     "shell.execute_reply.started": "2023-09-20T08:37:09.532072Z"
    }
   },
   "outputs": [
    {
     "name": "stdout",
     "output_type": "stream",
     "text": [
      "Epoch 1/50\n",
      "3233/3233 [==============================] - 45s 11ms/step - loss: 0.2302 - accuracy: 0.8945 - val_loss: 0.4371 - val_accuracy: 0.7724\n",
      "Epoch 2/50\n",
      "3233/3233 [==============================] - 34s 11ms/step - loss: 0.1984 - accuracy: 0.9084 - val_loss: 0.5019 - val_accuracy: 0.7452\n",
      "Epoch 3/50\n",
      "3233/3233 [==============================] - 34s 11ms/step - loss: 0.1924 - accuracy: 0.9119 - val_loss: 0.5880 - val_accuracy: 0.7434\n",
      "Epoch 4/50\n",
      "3233/3233 [==============================] - 34s 11ms/step - loss: 0.1860 - accuracy: 0.9161 - val_loss: 0.5218 - val_accuracy: 0.7612\n",
      "Epoch 5/50\n",
      "3233/3233 [==============================] - 34s 11ms/step - loss: 0.1835 - accuracy: 0.9172 - val_loss: 0.5041 - val_accuracy: 0.7714\n",
      "Epoch 6/50\n",
      "3233/3233 [==============================] - 34s 11ms/step - loss: 0.1811 - accuracy: 0.9188 - val_loss: 0.6046 - val_accuracy: 0.7544\n"
     ]
    }
   ],
   "source": [
    "from tensorflow.keras.callbacks import EarlyStopping\n",
    "\n",
    "early_stopping = EarlyStopping(monitor='val_loss', patience=5, restore_best_weights=True)\n",
    "r = model.fit(X, y, epochs = 50, batch_size = 256, validation_split = 0.2, callbacks=[early_stopping])"
   ]
  },
  {
   "cell_type": "code",
   "execution_count": 10,
   "metadata": {
    "execution": {
     "iopub.execute_input": "2023-09-20T08:40:50.602923Z",
     "iopub.status.busy": "2023-09-20T08:40:50.602629Z",
     "iopub.status.idle": "2023-09-20T08:41:40.697329Z",
     "shell.execute_reply": "2023-09-20T08:41:40.696225Z",
     "shell.execute_reply.started": "2023-09-20T08:40:50.602896Z"
    }
   },
   "outputs": [
    {
     "data": {
      "text/plain": [
       "<matplotlib.legend.Legend at 0x7bc2f07cec80>"
      ]
     },
     "execution_count": 10,
     "metadata": {},
     "output_type": "execute_result"
    },
    {
     "data": {
      "image/png": "[encoded data removed]",
      "text/plain": [
       "<Figure size 640x480 with 1 Axes>"
      ]
     },
     "metadata": {},
     "output_type": "display_data"
    }
   ],
   "source": [
    "plt.plot(r.history['accuracy'], label = 'accuracy')\n",
    "plt.plot(r.history['val_accuracy'], label = 'val - accuracy')\n",
    "plt.legend(loc = 'best')"
   ]
  },
  {
   "cell_type": "code",
   "execution_count": 11,
   "metadata": {
    "execution": {
     "iopub.execute_input": "2023-09-20T08:41:40.699895Z",
     "iopub.status.busy": "2023-09-20T08:41:40.698901Z",
     "iopub.status.idle": "2023-09-20T08:41:40.988665Z",
     "shell.execute_reply": "2023-09-20T08:41:40.987743Z",
     "shell.execute_reply.started": "2023-09-20T08:41:40.699860Z"
    }
   },
   "outputs": [
    {
     "data": {
      "text/plain": [
       "<matplotlib.legend.Legend at 0x7bc2dc3eb1c0>"
      ]
     },
     "execution_count": 11,
     "metadata": {},
     "output_type": "execute_result"
    },
    {
     "data": {
      "image/png": "[encoded data removed]",
      "text/plain": [
       "<Figure size 640x480 with 1 Axes>"
      ]
     },
     "metadata": {},
     "output_type": "display_data"
    }
   ],
   "source": [
    "plt.plot(r.history['loss'], label = 'loss')\n",
    "plt.plot(r.history['val_loss'], label = 'val - loss')\n",
    "plt.legend(loc = 'best')"
   ]
  },
  {
   "cell_type": "code",
   "execution_count": 12,
   "metadata": {
    "execution": {
     "iopub.execute_input": "2023-09-20T08:41:40.990804Z",
     "iopub.status.busy": "2023-09-20T08:41:40.989956Z",
     "iopub.status.idle": "2023-09-20T08:41:49.678350Z",
     "shell.execute_reply": "2023-09-20T08:41:49.677215Z",
     "shell.execute_reply.started": "2023-09-20T08:41:40.990766Z"
    }
   },
   "outputs": [
    {
     "name": "stdout",
     "output_type": "stream",
     "text": [
      "(1034504, 59) (1034504,)\n"
     ]
    }
   ],
   "source": [
    "test_data = pd.read_csv('/kaggle/input/merged-data/012.csv').values\n",
    "x_test_padded = np.pad(test_data[:, :-1], ((0, max_rows - test_data.shape[0]), (0,0)), 'constant')\n",
    "y_test_padded = np.pad(test_data[:, -1], ((0, max_rows - test_data.shape[0])), 'constant')\n",
    "                      \n",
    "print(x_test_padded.shape, y_test_padded.shape)"
   ]
  },
  {
   "cell_type": "code",
   "execution_count": 13,
   "metadata": {
    "execution": {
     "iopub.execute_input": "2023-09-20T08:41:49.680317Z",
     "iopub.status.busy": "2023-09-20T08:41:49.679952Z",
     "iopub.status.idle": "2023-09-20T08:41:49.689440Z",
     "shell.execute_reply": "2023-09-20T08:41:49.688313Z",
     "shell.execute_reply.started": "2023-09-20T08:41:49.680281Z"
    }
   },
   "outputs": [
    {
     "data": {
      "text/plain": [
       "((103450, 10, 59), (103450, 10))"
      ]
     },
     "execution_count": 13,
     "metadata": {},
     "output_type": "execute_result"
    }
   ],
   "source": [
    "num_sequences = len(x_test_padded) // sequence_length\n",
    "total_samples = num_sequences * sequence_length\n",
    "\n",
    "x_testpadded = x_test_padded[:total_samples]\n",
    "y_testpadded = y_test_padded[:total_samples]\n",
    "\n",
    "X_test = x_testpadded.reshape(-1, sequence_length, num_features)\n",
    "y_test = y_testpadded.reshape(-1, sequence_length)\n",
    "X_test.shape, y_test.shape"
   ]
  },
  {
   "cell_type": "code",
   "execution_count": 14,
   "metadata": {
    "execution": {
     "iopub.execute_input": "2023-09-20T08:41:49.692091Z",
     "iopub.status.busy": "2023-09-20T08:41:49.690914Z",
     "iopub.status.idle": "2023-09-20T08:42:11.748112Z",
     "shell.execute_reply": "2023-09-20T08:42:11.747057Z",
     "shell.execute_reply.started": "2023-09-20T08:41:49.692058Z"
    }
   },
   "outputs": [
    {
     "name": "stdout",
     "output_type": "stream",
     "text": [
      "3233/3233 [==============================] - 12s 3ms/step\n"
     ]
    }
   ],
   "source": [
    "y_pred = model.predict(X_test)"
   ]
  },
  {
   "cell_type": "code",
   "execution_count": 15,
   "metadata": {
    "execution": {
     "iopub.execute_input": "2023-09-20T08:42:11.750763Z",
     "iopub.status.busy": "2023-09-20T08:42:11.749834Z",
     "iopub.status.idle": "2023-09-20T08:42:11.756156Z",
     "shell.execute_reply": "2023-09-20T08:42:11.754843Z",
     "shell.execute_reply.started": "2023-09-20T08:42:11.750725Z"
    }
   },
   "outputs": [],
   "source": [
    "y_pred = y_pred.reshape(-1, )\n",
    "y_test = y_test.reshape(-1,)"
   ]
  },
  {
   "cell_type": "code",
   "execution_count": 16,
   "metadata": {
    "execution": {
     "iopub.execute_input": "2023-09-20T08:42:11.758378Z",
     "iopub.status.busy": "2023-09-20T08:42:11.757953Z",
     "iopub.status.idle": "2023-09-20T08:42:14.337469Z",
     "shell.execute_reply": "2023-09-20T08:42:14.336099Z",
     "shell.execute_reply.started": "2023-09-20T08:42:11.758327Z"
    }
   },
   "outputs": [],
   "source": [
    "y_pred_bool = [0 if x < 0.7 else 1 for x in y_pred]"
   ]
  },
  {
   "cell_type": "code",
   "execution_count": 17,
   "metadata": {
    "execution": {
     "iopub.execute_input": "2023-09-20T08:42:14.340584Z",
     "iopub.status.busy": "2023-09-20T08:42:14.339832Z",
     "iopub.status.idle": "2023-09-20T08:42:15.405769Z",
     "shell.execute_reply": "2023-09-20T08:42:15.404758Z",
     "shell.execute_reply.started": "2023-09-20T08:42:14.340545Z"
    }
   },
   "outputs": [
    {
     "data": {
      "text/plain": [
       "0.8727829869502175"
      ]
     },
     "execution_count": 17,
     "metadata": {},
     "output_type": "execute_result"
    }
   ],
   "source": [
    "from sklearn.metrics import accuracy_score\n",
    "accuracy_score(y_test.reshape(-1,), y_pred_bool)"
   ]
  },
  {
   "cell_type": "code",
   "execution_count": 18,
   "metadata": {
    "execution": {
     "iopub.execute_input": "2023-09-20T08:42:15.407687Z",
     "iopub.status.busy": "2023-09-20T08:42:15.407234Z",
     "iopub.status.idle": "2023-09-20T08:42:17.623330Z",
     "shell.execute_reply": "2023-09-20T08:42:17.622291Z",
     "shell.execute_reply.started": "2023-09-20T08:42:15.407651Z"
    }
   },
   "outputs": [
    {
     "data": {
      "image/png": "[encoded data removed]",
      "text/plain": [
       "<Figure size 800x600 with 1 Axes>"
      ]
     },
     "metadata": {},
     "output_type": "display_data"
    }
   ],
   "source": [
    "from sklearn.metrics import confusion_matrix\n",
    "import seaborn as sns\n",
    "\n",
    "cm = confusion_matrix(y_test, y_pred_bool)\n",
    "\n",
    "plt.figure(figsize=(8, 6))\n",
    "sns.heatmap(cm, annot=True, fmt=\"d\", cmap=\"Blues\", cbar=False)\n",
    "plt.xlabel(\"Predicted\")\n",
    "plt.ylabel(\"True\")\n",
    "plt.title(\"Confusion Matrix\")\n",
    "plt.show()"
   ]
  },
  {
   "cell_type": "code",
   "execution_count": null,
   "metadata": {},
   "outputs": [],
   "source": []
  }
 ],
 "metadata": {
  "kernelspec": {
   "display_name": "Python 3",
   "language": "python",
   "name": "python3"
  },
  "language_info": {
   "codemirror_mode": {
    "name": "ipython",
    "version": 3
   },
   "file_extension": ".py",
   "mimetype": "text/x-python",
   "name": "python",
   "nbconvert_exporter": "python",
   "pygments_lexer": "ipython3",
   "version": "3.10.12"
  }
 },
 "nbformat": 4,
 "nbformat_minor": 4
}
